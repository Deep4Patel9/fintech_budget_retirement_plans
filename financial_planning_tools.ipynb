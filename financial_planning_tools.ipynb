{
 "cells": [
  {
   "cell_type": "markdown",
   "metadata": {},
   "source": [
    "# Financial Planning with APIs and Simulations"
   ]
  },
  {
   "cell_type": "code",
   "execution_count": 1,
   "metadata": {},
   "outputs": [],
   "source": [
    "# Import the required libraries and dependencies\n",
    "import os\n",
    "import requests\n",
    "import json\n",
    "import pandas as pd\n",
    "from dotenv import load_dotenv\n",
    "import alpaca_trade_api as tradeapi\n",
    "from MCForecastTools import MCSimulation\n",
    "\n",
    "%matplotlib inline"
   ]
  },
  {
   "cell_type": "code",
   "execution_count": 2,
   "metadata": {},
   "outputs": [
    {
     "data": {
      "text/plain": [
       "True"
      ]
     },
     "execution_count": 2,
     "metadata": {},
     "output_type": "execute_result"
    }
   ],
   "source": [
    "# Load the environment variables from the .env file by calling the load_dotenv function\n",
    "load_dotenv()"
   ]
  },
  {
   "cell_type": "markdown",
   "metadata": {},
   "source": [
    "## Create a Financial Planner for Emergencies"
   ]
  },
  {
   "cell_type": "code",
   "execution_count": 3,
   "metadata": {},
   "outputs": [],
   "source": [
    "# The current number of coins for each cryptocurrency asset held in the portfolio.\n",
    "btc_coins = 1.2\n",
    "eth_coins = 5.3"
   ]
  },
  {
   "cell_type": "code",
   "execution_count": 4,
   "metadata": {},
   "outputs": [],
   "source": [
    "# The monthly amount for the member's household income\n",
    "monthly_income = 12000"
   ]
  },
  {
   "cell_type": "code",
   "execution_count": 5,
   "metadata": {},
   "outputs": [],
   "source": [
    "# The Free Crypto API Call endpoint URLs for the held cryptocurrency assets\n",
    "btc_url = \"https://api.alternative.me/v2/ticker/Bitcoin/?convert=USD\"\n",
    "eth_url = \"https://api.alternative.me/v2/ticker/Ethereum/?convert=USD\""
   ]
  },
  {
   "cell_type": "code",
   "execution_count": 6,
   "metadata": {},
   "outputs": [
    {
     "name": "stdout",
     "output_type": "stream",
     "text": [
      "{\n",
      "    \"data\": {\n",
      "        \"1\": {\n",
      "            \"circulating_supply\": 18854431,\n",
      "            \"id\": 1,\n",
      "            \"last_updated\": 1635209354,\n",
      "            \"max_supply\": 21000000,\n",
      "            \"name\": \"Bitcoin\",\n",
      "            \"quotes\": {\n",
      "                \"USD\": {\n",
      "                    \"market_cap\": 1192131994833,\n",
      "                    \"percent_change_1h\": 0.0375212766474652,\n",
      "                    \"percent_change_24h\": 2.61581849609191,\n",
      "                    \"percent_change_7d\": 2.02603017746222,\n",
      "                    \"percentage_change_1h\": 0.0375212766474652,\n",
      "                    \"percentage_change_24h\": 2.61581849609191,\n",
      "                    \"percentage_change_7d\": 2.02603017746222,\n",
      "                    \"price\": 63274.0,\n",
      "                    \"volume_24h\": 31620240016\n",
      "                }\n",
      "            },\n",
      "            \"rank\": 1,\n",
      "            \"symbol\": \"BTC\",\n",
      "            \"total_supply\": 18854431,\n",
      "            \"website_slug\": \"bitcoin\"\n",
      "        }\n",
      "    },\n",
      "    \"metadata\": {\n",
      "        \"error\": null,\n",
      "        \"num_cryptocurrencies\": 3105,\n",
      "        \"timestamp\": 1635209354\n",
      "    }\n",
      "}\n"
     ]
    }
   ],
   "source": [
    "# Using the Python requests library, make an API call to access the current price of BTC\n",
    "btc_response = requests.get(btc_url).json()\n",
    "\n",
    "# Use the json.dumps function to review the response data from the API call\n",
    "# Use the indent and sort_keys parameters to make the response object readable\n",
    "print(json.dumps(btc_response, indent=4, sort_keys=True))"
   ]
  },
  {
   "cell_type": "code",
   "execution_count": 7,
   "metadata": {},
   "outputs": [
    {
     "name": "stdout",
     "output_type": "stream",
     "text": [
      "{\n",
      "    \"data\": {\n",
      "        \"1027\": {\n",
      "            \"circulating_supply\": 118077176,\n",
      "            \"id\": 1027,\n",
      "            \"last_updated\": 1635209327,\n",
      "            \"max_supply\": 0,\n",
      "            \"name\": \"Ethereum\",\n",
      "            \"quotes\": {\n",
      "                \"USD\": {\n",
      "                    \"market_cap\": 499491060520,\n",
      "                    \"percent_change_1h\": 0.513617680943209,\n",
      "                    \"percent_change_24h\": 2.73149505222375,\n",
      "                    \"percent_change_7d\": 13.2045208286442,\n",
      "                    \"percentage_change_1h\": 0.513617680943209,\n",
      "                    \"percentage_change_24h\": 2.73149505222375,\n",
      "                    \"percentage_change_7d\": 13.2045208286442,\n",
      "                    \"price\": 4248.13,\n",
      "                    \"volume_24h\": 17156148693\n",
      "                }\n",
      "            },\n",
      "            \"rank\": 2,\n",
      "            \"symbol\": \"ETH\",\n",
      "            \"total_supply\": 118077176,\n",
      "            \"website_slug\": \"ethereum\"\n",
      "        }\n",
      "    },\n",
      "    \"metadata\": {\n",
      "        \"error\": null,\n",
      "        \"num_cryptocurrencies\": 3105,\n",
      "        \"timestamp\": 1635209327\n",
      "    }\n",
      "}\n"
     ]
    }
   ],
   "source": [
    "# Using the Python requests library, make an API call to access the current price ETH\n",
    "eth_response = requests.get(eth_url).json()\n",
    "\n",
    "# Use the json.dumps function to review the response data from the API call\n",
    "# Use the indent and sort_keys parameters to make the response object readable\n",
    "print(json.dumps(eth_response, indent=4, sort_keys=True))\n"
   ]
  },
  {
   "cell_type": "code",
   "execution_count": 8,
   "metadata": {},
   "outputs": [
    {
     "name": "stdout",
     "output_type": "stream",
     "text": [
      "The current price of BitCoin to USD is $63,274.00.\n"
     ]
    }
   ],
   "source": [
    "# Navigate the BTC response object to access the current price of BTC\n",
    "btc_price = btc_response['data']['1']['quotes']['USD']['price']\n",
    "\n",
    "# Print the current price of BTC\n",
    "print(f'The current price of BitCoin to USD is ${btc_price:,.2f}.')"
   ]
  },
  {
   "cell_type": "code",
   "execution_count": 9,
   "metadata": {},
   "outputs": [
    {
     "name": "stdout",
     "output_type": "stream",
     "text": [
      "The current price ofof Etherum to USD is $4,248.13.\n"
     ]
    }
   ],
   "source": [
    "# Navigate the BTC response object to access the current price of ETH\n",
    "eth_price = eth_response['data']['1027']['quotes']['USD']['price']\n",
    "\n",
    "# Print the current price of ETH\n",
    "print(f'The current price ofof Etherum to USD is ${eth_price:,.2f}.')\n"
   ]
  },
  {
   "cell_type": "code",
   "execution_count": 10,
   "metadata": {},
   "outputs": [
    {
     "name": "stdout",
     "output_type": "stream",
     "text": [
      "The current value of your BitCoin(BTC) is $75,928.80.\n"
     ]
    }
   ],
   "source": [
    "# Compute the current value of the BTC holding \n",
    "btc_value = btc_coins * btc_price\n",
    "\n",
    "# Print current value of your holding in BTC\n",
    "print(f'The current value of your BitCoin(BTC) is ${btc_value:,.2f}.')\n"
   ]
  },
  {
   "cell_type": "code",
   "execution_count": 11,
   "metadata": {},
   "outputs": [
    {
     "name": "stdout",
     "output_type": "stream",
     "text": [
      "The current value of your Etherum(ETH) is $22,515.09.\n"
     ]
    }
   ],
   "source": [
    "# Compute the current value of the ETH holding \n",
    "eth_value = eth_coins * eth_price\n",
    "\n",
    "# Print current value of your holding in ETH\n",
    "print(f'The current value of your Etherum(ETH) is ${eth_value:,.2f}.')"
   ]
  },
  {
   "cell_type": "code",
   "execution_count": 12,
   "metadata": {},
   "outputs": [
    {
     "name": "stdout",
     "output_type": "stream",
     "text": [
      "The total value of your cryptocurrency wallet is $98,443.89.\n"
     ]
    }
   ],
   "source": [
    "# Compute the total value of the cryptocurrency wallet\n",
    "# Add the value of the BTC holding to the value of the ETH holding\n",
    "total_crypto_wallet = eth_value + btc_value\n",
    "\n",
    "# Print current cryptocurrency wallet balance\n",
    "print(f'The total value of your cryptocurrency wallet is ${total_crypto_wallet:,.2f}.')\n"
   ]
  },
  {
   "cell_type": "markdown",
   "metadata": {},
   "source": [
    "### Evaluate the Stock and Bond Holdings by Using the Alpaca SDK"
   ]
  },
  {
   "cell_type": "code",
   "execution_count": 13,
   "metadata": {},
   "outputs": [],
   "source": [
    "# Current amount of shares held in both the stock (SPY) and bond (AGG) portion of the portfolio.\n",
    "spy_shares = 110\n",
    "agg_shares = 200\n"
   ]
  },
  {
   "cell_type": "code",
   "execution_count": 14,
   "metadata": {},
   "outputs": [],
   "source": [
    "# Set the variables for the Alpaca API and secret keys\n",
    "alpaca_api_key = os.getenv(\"ALPACA_API_KEY\")\n",
    "alpaca_secret_key = os.getenv(\"ALPACA_SECRET_KEY\")\n",
    "\n",
    "# Create the Alpaca tradeapi.REST object\n",
    "alpaca = tradeapi.REST(alpaca_api_key, alpaca_secret_key, api_version='v2')"
   ]
  },
  {
   "cell_type": "code",
   "execution_count": 16,
   "metadata": {},
   "outputs": [],
   "source": [
    "# Set the tickers for both the bond and stock portion of the portfolio\n",
    "tickers = ['AGG', 'SPY']\n",
    "\n",
    "# Set timeframe to 1D \n",
    "timeframe = '1D'\n",
    "\n",
    "# Format current date as ISO format\n",
    "# Set both the start and end date at the date of your prior weekday \n",
    "# This will give you the closing price of the previous trading day\n",
    "date = pd.Timestamp('today')\n",
    "start_date = pd.Timestamp(year=date.year, month=date.month, day=date.day-7, tz='America/New_York').isoformat()\n",
    "end_date = pd.Timestamp(date, tz='America/New_York').isoformat()\n"
   ]
  },
  {
   "cell_type": "code",
   "execution_count": 17,
   "metadata": {},
   "outputs": [
    {
     "data": {
      "text/html": [
       "<div>\n",
       "<style scoped>\n",
       "    .dataframe tbody tr th:only-of-type {\n",
       "        vertical-align: middle;\n",
       "    }\n",
       "\n",
       "    .dataframe tbody tr th {\n",
       "        vertical-align: top;\n",
       "    }\n",
       "\n",
       "    .dataframe thead tr th {\n",
       "        text-align: left;\n",
       "    }\n",
       "\n",
       "    .dataframe thead tr:last-of-type th {\n",
       "        text-align: right;\n",
       "    }\n",
       "</style>\n",
       "<table border=\"1\" class=\"dataframe\">\n",
       "  <thead>\n",
       "    <tr>\n",
       "      <th></th>\n",
       "      <th colspan=\"5\" halign=\"left\">AGG</th>\n",
       "      <th colspan=\"5\" halign=\"left\">SPY</th>\n",
       "    </tr>\n",
       "    <tr>\n",
       "      <th></th>\n",
       "      <th>open</th>\n",
       "      <th>high</th>\n",
       "      <th>low</th>\n",
       "      <th>close</th>\n",
       "      <th>volume</th>\n",
       "      <th>open</th>\n",
       "      <th>high</th>\n",
       "      <th>low</th>\n",
       "      <th>close</th>\n",
       "      <th>volume</th>\n",
       "    </tr>\n",
       "    <tr>\n",
       "      <th>time</th>\n",
       "      <th></th>\n",
       "      <th></th>\n",
       "      <th></th>\n",
       "      <th></th>\n",
       "      <th></th>\n",
       "      <th></th>\n",
       "      <th></th>\n",
       "      <th></th>\n",
       "      <th></th>\n",
       "      <th></th>\n",
       "    </tr>\n",
       "  </thead>\n",
       "  <tbody>\n",
       "    <tr>\n",
       "      <th>2021-10-21 00:00:00-04:00</th>\n",
       "      <td>114.01</td>\n",
       "      <td>114.0400</td>\n",
       "      <td>113.8423</td>\n",
       "      <td>113.85</td>\n",
       "      <td>4741154</td>\n",
       "      <td>451.76</td>\n",
       "      <td>453.829</td>\n",
       "      <td>451.31</td>\n",
       "      <td>453.61</td>\n",
       "      <td>33945007</td>\n",
       "    </tr>\n",
       "    <tr>\n",
       "      <th>2021-10-22 00:00:00-04:00</th>\n",
       "      <td>113.97</td>\n",
       "      <td>114.1399</td>\n",
       "      <td>113.8950</td>\n",
       "      <td>114.07</td>\n",
       "      <td>3309637</td>\n",
       "      <td>453.13</td>\n",
       "      <td>454.670</td>\n",
       "      <td>451.05</td>\n",
       "      <td>453.13</td>\n",
       "      <td>50771701</td>\n",
       "    </tr>\n",
       "    <tr>\n",
       "      <th>2021-10-25 00:00:00-04:00</th>\n",
       "      <td>114.06</td>\n",
       "      <td>114.2700</td>\n",
       "      <td>114.0600</td>\n",
       "      <td>114.17</td>\n",
       "      <td>7088133</td>\n",
       "      <td>454.28</td>\n",
       "      <td>455.900</td>\n",
       "      <td>452.39</td>\n",
       "      <td>455.48</td>\n",
       "      <td>37918548</td>\n",
       "    </tr>\n",
       "  </tbody>\n",
       "</table>\n",
       "</div>"
      ],
      "text/plain": [
       "                              AGG                                       \\\n",
       "                             open      high       low   close   volume   \n",
       "time                                                                     \n",
       "2021-10-21 00:00:00-04:00  114.01  114.0400  113.8423  113.85  4741154   \n",
       "2021-10-22 00:00:00-04:00  113.97  114.1399  113.8950  114.07  3309637   \n",
       "2021-10-25 00:00:00-04:00  114.06  114.2700  114.0600  114.17  7088133   \n",
       "\n",
       "                              SPY                                     \n",
       "                             open     high     low   close    volume  \n",
       "time                                                                  \n",
       "2021-10-21 00:00:00-04:00  451.76  453.829  451.31  453.61  33945007  \n",
       "2021-10-22 00:00:00-04:00  453.13  454.670  451.05  453.13  50771701  \n",
       "2021-10-25 00:00:00-04:00  454.28  455.900  452.39  455.48  37918548  "
      ]
     },
     "execution_count": 17,
     "metadata": {},
     "output_type": "execute_result"
    }
   ],
   "source": [
    "# Use the Alpaca get_barset function to get current closing prices the portfolio\n",
    "# Be sure to set the `df` property after the function to format the response object as a DataFrame\n",
    "port_ticker_df = alpaca.get_barset(tickers, timeframe, start=start_date, end=end_date).df\n",
    "\n",
    "# Review the first 5 rows of the Alpaca DataFrame\n",
    "port_ticker_df.head()"
   ]
  },
  {
   "cell_type": "code",
   "execution_count": 18,
   "metadata": {},
   "outputs": [
    {
     "name": "stdout",
     "output_type": "stream",
     "text": [
      "The lastest AGG closing price is $114.17.\n"
     ]
    }
   ],
   "source": [
    "# Access the closing price for AGG from the Alpaca DataFrame\n",
    "# Converting the value to a floating point number\n",
    "agg_close_price = float(port_ticker_df['AGG']['close'][-1])\n",
    "\n",
    "# Print the AGG closing price\n",
    "print(f'The lastest AGG closing price is ${agg_close_price:,.2f}.')"
   ]
  },
  {
   "cell_type": "code",
   "execution_count": 19,
   "metadata": {},
   "outputs": [
    {
     "name": "stdout",
     "output_type": "stream",
     "text": [
      "The lastest SPY closing price is $455.48.\n"
     ]
    }
   ],
   "source": [
    "# Access the closing price for SPY from the Alpaca DataFrame\n",
    "# Converting the value to a floating point number\n",
    "spy_close_price = float(port_ticker_df['SPY']['close'][-1])\n",
    "\n",
    "# Print the SPY closing price\n",
    "print(f'The lastest SPY closing price is ${spy_close_price:,.2f}.')\n"
   ]
  },
  {
   "cell_type": "code",
   "execution_count": 20,
   "metadata": {},
   "outputs": [
    {
     "name": "stdout",
     "output_type": "stream",
     "text": [
      "The current value of your AGG stocks is $22,834.00.\n"
     ]
    }
   ],
   "source": [
    "# Calculate the current value of the bond portion of the portfolio\n",
    "agg_value = agg_close_price * agg_shares\n",
    "\n",
    "# Print the current value of the bond portfolio\n",
    "print(f'The current value of your AGG stocks is ${agg_value:,.2f}.')\n"
   ]
  },
  {
   "cell_type": "code",
   "execution_count": 21,
   "metadata": {},
   "outputs": [
    {
     "name": "stdout",
     "output_type": "stream",
     "text": [
      "The current value of your SPY stocks is $50,102.80.\n"
     ]
    }
   ],
   "source": [
    "# Calculate the current value of the stock portion of the portfolio\n",
    "spy_value = spy_close_price * spy_shares\n",
    "\n",
    "# Print the current value of the stock portfolio\n",
    "print(f'The current value of your SPY stocks is ${spy_value:,.2f}.')\n"
   ]
  },
  {
   "cell_type": "code",
   "execution_count": 22,
   "metadata": {},
   "outputs": [
    {
     "name": "stdout",
     "output_type": "stream",
     "text": [
      "The total value of your stock/bond porfolio is $72,936.80.\n"
     ]
    }
   ],
   "source": [
    "# Calculate the total value of the stock and bond portion of the portfolio\n",
    "total_stocks_bonds = agg_value + spy_value\n",
    "\n",
    "# Print the current balance of the stock and bond portion of the portfolio\n",
    "print(f'The total value of your stock/bond porfolio is ${total_stocks_bonds:,.2f}.')\n"
   ]
  },
  {
   "cell_type": "code",
   "execution_count": 23,
   "metadata": {},
   "outputs": [
    {
     "name": "stdout",
     "output_type": "stream",
     "text": [
      "The total portfolio value is $171,380.69.\n"
     ]
    }
   ],
   "source": [
    "# Calculate the total value of the member's entire savings portfolio\n",
    "# Add the value of the cryptocurrency walled to the value of the total stocks and bonds\n",
    "total_portfolio = total_crypto_wallet + total_stocks_bonds\n",
    "\n",
    "# Print current cryptocurrency wallet balance\n",
    "print(f'The total portfolio value is ${total_portfolio:,.2f}.')\n"
   ]
  },
  {
   "cell_type": "markdown",
   "metadata": {},
   "source": [
    "### Evaluate Emergency Fund"
   ]
  },
  {
   "cell_type": "code",
   "execution_count": 24,
   "metadata": {},
   "outputs": [
    {
     "name": "stdout",
     "output_type": "stream",
     "text": [
      "[98443.889, 72936.8]\n"
     ]
    }
   ],
   "source": [
    "# Consolidate financial assets data into a Python list\n",
    "savings_data = [total_crypto_wallet, total_stocks_bonds]\n",
    "# Review the Python list savings_data\n",
    "print(savings_data)\n",
    "    "
   ]
  },
  {
   "cell_type": "code",
   "execution_count": 25,
   "metadata": {},
   "outputs": [
    {
     "data": {
      "text/html": [
       "<div>\n",
       "<style scoped>\n",
       "    .dataframe tbody tr th:only-of-type {\n",
       "        vertical-align: middle;\n",
       "    }\n",
       "\n",
       "    .dataframe tbody tr th {\n",
       "        vertical-align: top;\n",
       "    }\n",
       "\n",
       "    .dataframe thead th {\n",
       "        text-align: right;\n",
       "    }\n",
       "</style>\n",
       "<table border=\"1\" class=\"dataframe\">\n",
       "  <thead>\n",
       "    <tr style=\"text-align: right;\">\n",
       "      <th></th>\n",
       "      <th>amount</th>\n",
       "    </tr>\n",
       "  </thead>\n",
       "  <tbody>\n",
       "    <tr>\n",
       "      <th>crypto</th>\n",
       "      <td>98443.889</td>\n",
       "    </tr>\n",
       "    <tr>\n",
       "      <th>stock/bond</th>\n",
       "      <td>72936.800</td>\n",
       "    </tr>\n",
       "  </tbody>\n",
       "</table>\n",
       "</div>"
      ],
      "text/plain": [
       "               amount\n",
       "crypto      98443.889\n",
       "stock/bond  72936.800"
      ]
     },
     "execution_count": 25,
     "metadata": {},
     "output_type": "execute_result"
    }
   ],
   "source": [
    "# Create a Pandas DataFrame called savings_df \n",
    "savings_df = pd.DataFrame(savings_data , index=['crypto', 'stock/bond'], columns=['amount'])\n",
    "\n",
    "# Display the savings_df DataFrame\n",
    "savings_df.head()\n"
   ]
  },
  {
   "cell_type": "code",
   "execution_count": 26,
   "metadata": {},
   "outputs": [
    {
     "data": {
      "text/plain": [
       "<AxesSubplot:title={'center':'Total Value of Portfolio'}, ylabel='Amount'>"
      ]
     },
     "execution_count": 26,
     "metadata": {},
     "output_type": "execute_result"
    },
    {
     "data": {
      "image/png": "[encoded data removed]",
      "text/plain": [
       "<Figure size 1008x504 with 1 Axes>"
      ]
     },
     "metadata": {},
     "output_type": "display_data"
    }
   ],
   "source": [
    "# Plot the total value of the member's portfolio (crypto and stock/bond) in a pie chart\n",
    "savings_df.plot.pie(y='amount', title='Total Value of Portfolio', figsize=(14,7), ylabel='Amount')\n"
   ]
  },
  {
   "cell_type": "code",
   "execution_count": 27,
   "metadata": {},
   "outputs": [],
   "source": [
    "# Create a variable named emergency_fund_value\n",
    "emergency_fund_value = 3* monthly_income\n"
   ]
  },
  {
   "cell_type": "code",
   "execution_count": 28,
   "metadata": {},
   "outputs": [
    {
     "name": "stdout",
     "output_type": "stream",
     "text": [
      "Congratulations on exceeding your financial goal!\n"
     ]
    }
   ],
   "source": [
    "# Evaluate the possibility of creating an emergency fund with 3 conditions:\n",
    "if total_portfolio > emergency_fund_value:\n",
    "     print(f'Congratulations on exceeding your financial goal!')\n",
    "elif total_portfolio == emergency_fund_value:\n",
    "    print(f'Congratulations on reaching this important financial goal!')\n",
    "else:\n",
    "    print(f'You are still ${emergency_fund_value-total_portfolio:,.2f} away from your emergency_fund_value of ${emergency_fund_value:,.2f}.')\n"
   ]
  },
  {
   "cell_type": "markdown",
   "metadata": {},
   "source": [
    "## Part 2: Create a Financial Planner for Retirement"
   ]
  },
  {
   "cell_type": "code",
   "execution_count": 29,
   "metadata": {},
   "outputs": [],
   "source": [
    "# Set start and end dates of 3 years back from your current date \n",
    "start_date = pd.Timestamp(year=date.year-3, month=date.month, day=date.day, tz='America/New_York').isoformat()\n",
    "end_date = pd.Timestamp(date, tz='America/New_York').isoformat()\n",
    "\n",
    "# Set number of rows to 1000 to retrieve the maximum amount of rows\n",
    "row_limit = 1000"
   ]
  },
  {
   "cell_type": "code",
   "execution_count": 31,
   "metadata": {
    "collapsed": true,
    "jupyter": {
     "outputs_hidden": true
    },
    "tags": []
   },
   "outputs": [
    {
     "data": {
      "text/html": [
       "<div>\n",
       "<style scoped>\n",
       "    .dataframe tbody tr th:only-of-type {\n",
       "        vertical-align: middle;\n",
       "    }\n",
       "\n",
       "    .dataframe tbody tr th {\n",
       "        vertical-align: top;\n",
       "    }\n",
       "\n",
       "    .dataframe thead tr th {\n",
       "        text-align: left;\n",
       "    }\n",
       "\n",
       "    .dataframe thead tr:last-of-type th {\n",
       "        text-align: right;\n",
       "    }\n",
       "</style>\n",
       "<table border=\"1\" class=\"dataframe\">\n",
       "  <thead>\n",
       "    <tr>\n",
       "      <th></th>\n",
       "      <th colspan=\"5\" halign=\"left\">AGG</th>\n",
       "      <th colspan=\"5\" halign=\"left\">SPY</th>\n",
       "    </tr>\n",
       "    <tr>\n",
       "      <th></th>\n",
       "      <th>open</th>\n",
       "      <th>high</th>\n",
       "      <th>low</th>\n",
       "      <th>close</th>\n",
       "      <th>volume</th>\n",
       "      <th>open</th>\n",
       "      <th>high</th>\n",
       "      <th>low</th>\n",
       "      <th>close</th>\n",
       "      <th>volume</th>\n",
       "    </tr>\n",
       "    <tr>\n",
       "      <th>time</th>\n",
       "      <th></th>\n",
       "      <th></th>\n",
       "      <th></th>\n",
       "      <th></th>\n",
       "      <th></th>\n",
       "      <th></th>\n",
       "      <th></th>\n",
       "      <th></th>\n",
       "      <th></th>\n",
       "      <th></th>\n",
       "    </tr>\n",
       "  </thead>\n",
       "  <tbody>\n",
       "    <tr>\n",
       "      <th>2018-10-25 00:00:00-04:00</th>\n",
       "      <td>104.71</td>\n",
       "      <td>104.77</td>\n",
       "      <td>104.61</td>\n",
       "      <td>104.665</td>\n",
       "      <td>3882207.0</td>\n",
       "      <td>267.37</td>\n",
       "      <td>271.81</td>\n",
       "      <td>266.23</td>\n",
       "      <td>270.14</td>\n",
       "      <td>97215770</td>\n",
       "    </tr>\n",
       "    <tr>\n",
       "      <th>2018-10-26 00:00:00-04:00</th>\n",
       "      <td>104.88</td>\n",
       "      <td>105.05</td>\n",
       "      <td>104.87</td>\n",
       "      <td>104.915</td>\n",
       "      <td>4411985.0</td>\n",
       "      <td>265.92</td>\n",
       "      <td>271.00</td>\n",
       "      <td>262.29</td>\n",
       "      <td>265.29</td>\n",
       "      <td>161147868</td>\n",
       "    </tr>\n",
       "    <tr>\n",
       "      <th>2018-10-29 00:00:00-04:00</th>\n",
       "      <td>104.86</td>\n",
       "      <td>104.89</td>\n",
       "      <td>104.72</td>\n",
       "      <td>104.790</td>\n",
       "      <td>3599179.0</td>\n",
       "      <td>268.78</td>\n",
       "      <td>270.25</td>\n",
       "      <td>259.85</td>\n",
       "      <td>263.80</td>\n",
       "      <td>120705901</td>\n",
       "    </tr>\n",
       "    <tr>\n",
       "      <th>2018-10-30 00:00:00-04:00</th>\n",
       "      <td>104.68</td>\n",
       "      <td>104.78</td>\n",
       "      <td>104.64</td>\n",
       "      <td>104.650</td>\n",
       "      <td>2246561.0</td>\n",
       "      <td>263.67</td>\n",
       "      <td>268.12</td>\n",
       "      <td>263.12</td>\n",
       "      <td>267.81</td>\n",
       "      <td>122643325</td>\n",
       "    </tr>\n",
       "    <tr>\n",
       "      <th>2018-10-31 00:00:00-04:00</th>\n",
       "      <td>104.50</td>\n",
       "      <td>104.70</td>\n",
       "      <td>104.50</td>\n",
       "      <td>104.580</td>\n",
       "      <td>11670445.0</td>\n",
       "      <td>270.65</td>\n",
       "      <td>273.23</td>\n",
       "      <td>270.12</td>\n",
       "      <td>270.69</td>\n",
       "      <td>97427146</td>\n",
       "    </tr>\n",
       "  </tbody>\n",
       "</table>\n",
       "</div>"
      ],
      "text/plain": [
       "                              AGG                                       \\\n",
       "                             open    high     low    close      volume   \n",
       "time                                                                     \n",
       "2018-10-25 00:00:00-04:00  104.71  104.77  104.61  104.665   3882207.0   \n",
       "2018-10-26 00:00:00-04:00  104.88  105.05  104.87  104.915   4411985.0   \n",
       "2018-10-29 00:00:00-04:00  104.86  104.89  104.72  104.790   3599179.0   \n",
       "2018-10-30 00:00:00-04:00  104.68  104.78  104.64  104.650   2246561.0   \n",
       "2018-10-31 00:00:00-04:00  104.50  104.70  104.50  104.580  11670445.0   \n",
       "\n",
       "                              SPY                                     \n",
       "                             open    high     low   close     volume  \n",
       "time                                                                  \n",
       "2018-10-25 00:00:00-04:00  267.37  271.81  266.23  270.14   97215770  \n",
       "2018-10-26 00:00:00-04:00  265.92  271.00  262.29  265.29  161147868  \n",
       "2018-10-29 00:00:00-04:00  268.78  270.25  259.85  263.80  120705901  \n",
       "2018-10-30 00:00:00-04:00  263.67  268.12  263.12  267.81  122643325  \n",
       "2018-10-31 00:00:00-04:00  270.65  273.23  270.12  270.69   97427146  "
      ]
     },
     "metadata": {},
     "output_type": "display_data"
    },
    {
     "data": {
      "text/html": [
       "<div>\n",
       "<style scoped>\n",
       "    .dataframe tbody tr th:only-of-type {\n",
       "        vertical-align: middle;\n",
       "    }\n",
       "\n",
       "    .dataframe tbody tr th {\n",
       "        vertical-align: top;\n",
       "    }\n",
       "\n",
       "    .dataframe thead tr th {\n",
       "        text-align: left;\n",
       "    }\n",
       "\n",
       "    .dataframe thead tr:last-of-type th {\n",
       "        text-align: right;\n",
       "    }\n",
       "</style>\n",
       "<table border=\"1\" class=\"dataframe\">\n",
       "  <thead>\n",
       "    <tr>\n",
       "      <th></th>\n",
       "      <th colspan=\"5\" halign=\"left\">AGG</th>\n",
       "      <th colspan=\"5\" halign=\"left\">SPY</th>\n",
       "    </tr>\n",
       "    <tr>\n",
       "      <th></th>\n",
       "      <th>open</th>\n",
       "      <th>high</th>\n",
       "      <th>low</th>\n",
       "      <th>close</th>\n",
       "      <th>volume</th>\n",
       "      <th>open</th>\n",
       "      <th>high</th>\n",
       "      <th>low</th>\n",
       "      <th>close</th>\n",
       "      <th>volume</th>\n",
       "    </tr>\n",
       "    <tr>\n",
       "      <th>time</th>\n",
       "      <th></th>\n",
       "      <th></th>\n",
       "      <th></th>\n",
       "      <th></th>\n",
       "      <th></th>\n",
       "      <th></th>\n",
       "      <th></th>\n",
       "      <th></th>\n",
       "      <th></th>\n",
       "      <th></th>\n",
       "    </tr>\n",
       "  </thead>\n",
       "  <tbody>\n",
       "    <tr>\n",
       "      <th>2021-10-19 00:00:00-04:00</th>\n",
       "      <td>114.37</td>\n",
       "      <td>114.3700</td>\n",
       "      <td>114.1600</td>\n",
       "      <td>114.18</td>\n",
       "      <td>3999066.0</td>\n",
       "      <td>448.92</td>\n",
       "      <td>450.700</td>\n",
       "      <td>448.27</td>\n",
       "      <td>450.68</td>\n",
       "      <td>40790864</td>\n",
       "    </tr>\n",
       "    <tr>\n",
       "      <th>2021-10-20 00:00:00-04:00</th>\n",
       "      <td>114.17</td>\n",
       "      <td>114.2900</td>\n",
       "      <td>114.0600</td>\n",
       "      <td>114.07</td>\n",
       "      <td>5881766.0</td>\n",
       "      <td>451.13</td>\n",
       "      <td>452.732</td>\n",
       "      <td>451.01</td>\n",
       "      <td>452.39</td>\n",
       "      <td>41594298</td>\n",
       "    </tr>\n",
       "    <tr>\n",
       "      <th>2021-10-21 00:00:00-04:00</th>\n",
       "      <td>114.01</td>\n",
       "      <td>114.0400</td>\n",
       "      <td>113.8423</td>\n",
       "      <td>113.85</td>\n",
       "      <td>4741154.0</td>\n",
       "      <td>451.76</td>\n",
       "      <td>453.829</td>\n",
       "      <td>451.31</td>\n",
       "      <td>453.61</td>\n",
       "      <td>33945007</td>\n",
       "    </tr>\n",
       "    <tr>\n",
       "      <th>2021-10-22 00:00:00-04:00</th>\n",
       "      <td>113.97</td>\n",
       "      <td>114.1399</td>\n",
       "      <td>113.8950</td>\n",
       "      <td>114.07</td>\n",
       "      <td>3309637.0</td>\n",
       "      <td>453.13</td>\n",
       "      <td>454.670</td>\n",
       "      <td>451.05</td>\n",
       "      <td>453.13</td>\n",
       "      <td>50771701</td>\n",
       "    </tr>\n",
       "    <tr>\n",
       "      <th>2021-10-25 00:00:00-04:00</th>\n",
       "      <td>114.06</td>\n",
       "      <td>114.2700</td>\n",
       "      <td>114.0600</td>\n",
       "      <td>114.17</td>\n",
       "      <td>7088133.0</td>\n",
       "      <td>454.28</td>\n",
       "      <td>455.900</td>\n",
       "      <td>452.39</td>\n",
       "      <td>455.48</td>\n",
       "      <td>37918548</td>\n",
       "    </tr>\n",
       "  </tbody>\n",
       "</table>\n",
       "</div>"
      ],
      "text/plain": [
       "                              AGG                                         \\\n",
       "                             open      high       low   close     volume   \n",
       "time                                                                       \n",
       "2021-10-19 00:00:00-04:00  114.37  114.3700  114.1600  114.18  3999066.0   \n",
       "2021-10-20 00:00:00-04:00  114.17  114.2900  114.0600  114.07  5881766.0   \n",
       "2021-10-21 00:00:00-04:00  114.01  114.0400  113.8423  113.85  4741154.0   \n",
       "2021-10-22 00:00:00-04:00  113.97  114.1399  113.8950  114.07  3309637.0   \n",
       "2021-10-25 00:00:00-04:00  114.06  114.2700  114.0600  114.17  7088133.0   \n",
       "\n",
       "                              SPY                                     \n",
       "                             open     high     low   close    volume  \n",
       "time                                                                  \n",
       "2021-10-19 00:00:00-04:00  448.92  450.700  448.27  450.68  40790864  \n",
       "2021-10-20 00:00:00-04:00  451.13  452.732  451.01  452.39  41594298  \n",
       "2021-10-21 00:00:00-04:00  451.76  453.829  451.31  453.61  33945007  \n",
       "2021-10-22 00:00:00-04:00  453.13  454.670  451.05  453.13  50771701  \n",
       "2021-10-25 00:00:00-04:00  454.28  455.900  452.39  455.48  37918548  "
      ]
     },
     "metadata": {},
     "output_type": "display_data"
    }
   ],
   "source": [
    "# Use the Alpaca get_barset function to make the API call to get the 3 years worth of pricing data\n",
    "# The tickers and timeframe parameters should have been set in Part 1 of this activity \n",
    "# The start and end dates should be updated with the information set above\n",
    "# Remember to add the df property to the end of the call so the response is returned as a DataFrame\n",
    "portfolio_df = alpaca.get_barset(tickers, timeframe, start=start_date, end=end_date, limit=row_limit).df\n",
    "\n",
    "\n",
    "# Display both the first and last five rows of the DataFrame\n",
    "display(portfolio_df.head())\n",
    "display(portfolio_df.tail())\n",
    "\n"
   ]
  },
  {
   "cell_type": "code",
   "execution_count": 36,
   "metadata": {
    "collapsed": true,
    "jupyter": {
     "outputs_hidden": true
    },
    "tags": []
   },
   "outputs": [
    {
     "name": "stdout",
     "output_type": "stream",
     "text": [
      "                              AGG                                       \\\n",
      "                             open    high     low    close      volume   \n",
      "time                                                                     \n",
      "2018-10-25 00:00:00-04:00  104.71  104.77  104.61  104.665   3882207.0   \n",
      "2018-10-26 00:00:00-04:00  104.88  105.05  104.87  104.915   4411985.0   \n",
      "2018-10-29 00:00:00-04:00  104.86  104.89  104.72  104.790   3599179.0   \n",
      "2018-10-30 00:00:00-04:00  104.68  104.78  104.64  104.650   2246561.0   \n",
      "2018-10-31 00:00:00-04:00  104.50  104.70  104.50  104.580  11670445.0   \n",
      "\n",
      "                                           SPY                          \\\n",
      "                          daily_return    open    high     low   close   \n",
      "time                                                                     \n",
      "2018-10-25 00:00:00-04:00          NaN  267.37  271.81  266.23  270.14   \n",
      "2018-10-26 00:00:00-04:00     0.002389  265.92  271.00  262.29  265.29   \n",
      "2018-10-29 00:00:00-04:00    -0.001191  268.78  270.25  259.85  263.80   \n",
      "2018-10-30 00:00:00-04:00    -0.001336  263.67  268.12  263.12  267.81   \n",
      "2018-10-31 00:00:00-04:00    -0.000669  270.65  273.23  270.12  270.69   \n",
      "\n",
      "                                                   \n",
      "                              volume daily_return  \n",
      "time                                               \n",
      "2018-10-25 00:00:00-04:00   97215770          NaN  \n",
      "2018-10-26 00:00:00-04:00  161147868    -0.017954  \n",
      "2018-10-29 00:00:00-04:00  120705901    -0.005616  \n",
      "2018-10-30 00:00:00-04:00  122643325     0.015201  \n",
      "2018-10-31 00:00:00-04:00   97427146     0.010754  \n"
     ]
    }
   ],
   "source": [
    "# Configure the Monte Carlo simulation to forecast 30 years cumulative returns\n",
    "# The weights should be split 40% to AGG and 60% to SPY.\n",
    "# Run 500 samples.\n",
    "portf_mc_30y = MCSimulation(portfolio_data = portfolio_df, weights = [.40,.60], num_simulation = 500, num_trading_days = 252*30)\n",
    "\n",
    "# Review the simulation input data\n",
    "portf_mc_30y.portfolio_data.head()\n"
   ]
  },
  {
   "cell_type": "code",
   "execution_count": 38,
   "metadata": {
    "collapsed": true,
    "jupyter": {
     "outputs_hidden": true
    },
    "tags": []
   },
   "outputs": [
    {
     "name": "stdout",
     "output_type": "stream",
     "text": [
      "Running Monte Carlo simulation number 0.\n",
      "Running Monte Carlo simulation number 10.\n",
      "Running Monte Carlo simulation number 20.\n",
      "Running Monte Carlo simulation number 30.\n",
      "Running Monte Carlo simulation number 40.\n",
      "Running Monte Carlo simulation number 50.\n",
      "Running Monte Carlo simulation number 60.\n",
      "Running Monte Carlo simulation number 70.\n",
      "Running Monte Carlo simulation number 80.\n",
      "Running Monte Carlo simulation number 90.\n",
      "Running Monte Carlo simulation number 100.\n",
      "Running Monte Carlo simulation number 110.\n",
      "Running Monte Carlo simulation number 120.\n",
      "Running Monte Carlo simulation number 130.\n",
      "Running Monte Carlo simulation number 140.\n",
      "Running Monte Carlo simulation number 150.\n",
      "Running Monte Carlo simulation number 160.\n",
      "Running Monte Carlo simulation number 170.\n",
      "Running Monte Carlo simulation number 180.\n",
      "Running Monte Carlo simulation number 190.\n",
      "Running Monte Carlo simulation number 200.\n",
      "Running Monte Carlo simulation number 210.\n",
      "Running Monte Carlo simulation number 220.\n",
      "Running Monte Carlo simulation number 230.\n",
      "Running Monte Carlo simulation number 240.\n",
      "Running Monte Carlo simulation number 250.\n",
      "Running Monte Carlo simulation number 260.\n",
      "Running Monte Carlo simulation number 270.\n",
      "Running Monte Carlo simulation number 280.\n",
      "Running Monte Carlo simulation number 290.\n",
      "Running Monte Carlo simulation number 300.\n",
      "Running Monte Carlo simulation number 310.\n",
      "Running Monte Carlo simulation number 320.\n",
      "Running Monte Carlo simulation number 330.\n",
      "Running Monte Carlo simulation number 340.\n",
      "Running Monte Carlo simulation number 350.\n",
      "Running Monte Carlo simulation number 360.\n",
      "Running Monte Carlo simulation number 370.\n",
      "Running Monte Carlo simulation number 380.\n",
      "Running Monte Carlo simulation number 390.\n",
      "Running Monte Carlo simulation number 400.\n",
      "Running Monte Carlo simulation number 410.\n",
      "Running Monte Carlo simulation number 420.\n",
      "Running Monte Carlo simulation number 430.\n",
      "Running Monte Carlo simulation number 440.\n",
      "Running Monte Carlo simulation number 450.\n",
      "Running Monte Carlo simulation number 460.\n",
      "Running Monte Carlo simulation number 470.\n",
      "Running Monte Carlo simulation number 480.\n",
      "Running Monte Carlo simulation number 490.\n"
     ]
    },
    {
     "data": {
      "text/html": [
       "<div>\n",
       "<style scoped>\n",
       "    .dataframe tbody tr th:only-of-type {\n",
       "        vertical-align: middle;\n",
       "    }\n",
       "\n",
       "    .dataframe tbody tr th {\n",
       "        vertical-align: top;\n",
       "    }\n",
       "\n",
       "    .dataframe thead th {\n",
       "        text-align: right;\n",
       "    }\n",
       "</style>\n",
       "<table border=\"1\" class=\"dataframe\">\n",
       "  <thead>\n",
       "    <tr style=\"text-align: right;\">\n",
       "      <th></th>\n",
       "      <th>0</th>\n",
       "      <th>1</th>\n",
       "      <th>2</th>\n",
       "      <th>3</th>\n",
       "      <th>4</th>\n",
       "      <th>5</th>\n",
       "      <th>6</th>\n",
       "      <th>7</th>\n",
       "      <th>8</th>\n",
       "      <th>9</th>\n",
       "      <th>...</th>\n",
       "      <th>490</th>\n",
       "      <th>491</th>\n",
       "      <th>492</th>\n",
       "      <th>493</th>\n",
       "      <th>494</th>\n",
       "      <th>495</th>\n",
       "      <th>496</th>\n",
       "      <th>497</th>\n",
       "      <th>498</th>\n",
       "      <th>499</th>\n",
       "    </tr>\n",
       "  </thead>\n",
       "  <tbody>\n",
       "    <tr>\n",
       "      <th>0</th>\n",
       "      <td>1.000000</td>\n",
       "      <td>1.000000</td>\n",
       "      <td>1.000000</td>\n",
       "      <td>1.000000</td>\n",
       "      <td>1.000000</td>\n",
       "      <td>1.000000</td>\n",
       "      <td>1.000000</td>\n",
       "      <td>1.000000</td>\n",
       "      <td>1.000000</td>\n",
       "      <td>1.000000</td>\n",
       "      <td>...</td>\n",
       "      <td>1.000000</td>\n",
       "      <td>1.000000</td>\n",
       "      <td>1.000000</td>\n",
       "      <td>1.000000</td>\n",
       "      <td>1.000000</td>\n",
       "      <td>1.000000</td>\n",
       "      <td>1.000000</td>\n",
       "      <td>1.000000</td>\n",
       "      <td>1.000000</td>\n",
       "      <td>1.000000</td>\n",
       "    </tr>\n",
       "    <tr>\n",
       "      <th>1</th>\n",
       "      <td>1.012420</td>\n",
       "      <td>0.996212</td>\n",
       "      <td>1.012258</td>\n",
       "      <td>0.982285</td>\n",
       "      <td>0.989024</td>\n",
       "      <td>1.006106</td>\n",
       "      <td>1.002649</td>\n",
       "      <td>1.004344</td>\n",
       "      <td>1.009180</td>\n",
       "      <td>1.013547</td>\n",
       "      <td>...</td>\n",
       "      <td>1.000750</td>\n",
       "      <td>1.007511</td>\n",
       "      <td>0.986191</td>\n",
       "      <td>0.993433</td>\n",
       "      <td>0.998980</td>\n",
       "      <td>0.993022</td>\n",
       "      <td>0.994012</td>\n",
       "      <td>1.003488</td>\n",
       "      <td>0.993069</td>\n",
       "      <td>0.982758</td>\n",
       "    </tr>\n",
       "    <tr>\n",
       "      <th>2</th>\n",
       "      <td>1.025940</td>\n",
       "      <td>1.006061</td>\n",
       "      <td>1.005832</td>\n",
       "      <td>0.980467</td>\n",
       "      <td>0.986178</td>\n",
       "      <td>1.002578</td>\n",
       "      <td>1.006765</td>\n",
       "      <td>0.994194</td>\n",
       "      <td>1.001974</td>\n",
       "      <td>1.015477</td>\n",
       "      <td>...</td>\n",
       "      <td>0.992277</td>\n",
       "      <td>0.997417</td>\n",
       "      <td>0.982467</td>\n",
       "      <td>0.998778</td>\n",
       "      <td>1.000387</td>\n",
       "      <td>0.994969</td>\n",
       "      <td>0.991426</td>\n",
       "      <td>0.992508</td>\n",
       "      <td>0.992539</td>\n",
       "      <td>0.979575</td>\n",
       "    </tr>\n",
       "    <tr>\n",
       "      <th>3</th>\n",
       "      <td>1.034652</td>\n",
       "      <td>0.998978</td>\n",
       "      <td>1.008405</td>\n",
       "      <td>0.949857</td>\n",
       "      <td>0.986592</td>\n",
       "      <td>0.995967</td>\n",
       "      <td>0.992786</td>\n",
       "      <td>0.992476</td>\n",
       "      <td>1.003900</td>\n",
       "      <td>1.022886</td>\n",
       "      <td>...</td>\n",
       "      <td>1.010284</td>\n",
       "      <td>1.003849</td>\n",
       "      <td>0.975048</td>\n",
       "      <td>0.997523</td>\n",
       "      <td>0.987235</td>\n",
       "      <td>0.999984</td>\n",
       "      <td>1.001057</td>\n",
       "      <td>1.006351</td>\n",
       "      <td>0.980654</td>\n",
       "      <td>0.981723</td>\n",
       "    </tr>\n",
       "    <tr>\n",
       "      <th>4</th>\n",
       "      <td>1.045189</td>\n",
       "      <td>1.009138</td>\n",
       "      <td>0.994756</td>\n",
       "      <td>0.944067</td>\n",
       "      <td>0.974668</td>\n",
       "      <td>1.002820</td>\n",
       "      <td>0.986567</td>\n",
       "      <td>0.995559</td>\n",
       "      <td>1.000859</td>\n",
       "      <td>1.013168</td>\n",
       "      <td>...</td>\n",
       "      <td>1.003773</td>\n",
       "      <td>1.007728</td>\n",
       "      <td>0.968211</td>\n",
       "      <td>0.996588</td>\n",
       "      <td>0.988378</td>\n",
       "      <td>0.990207</td>\n",
       "      <td>0.989324</td>\n",
       "      <td>0.992990</td>\n",
       "      <td>0.969506</td>\n",
       "      <td>0.987361</td>\n",
       "    </tr>\n",
       "    <tr>\n",
       "      <th>...</th>\n",
       "      <td>...</td>\n",
       "      <td>...</td>\n",
       "      <td>...</td>\n",
       "      <td>...</td>\n",
       "      <td>...</td>\n",
       "      <td>...</td>\n",
       "      <td>...</td>\n",
       "      <td>...</td>\n",
       "      <td>...</td>\n",
       "      <td>...</td>\n",
       "      <td>...</td>\n",
       "      <td>...</td>\n",
       "      <td>...</td>\n",
       "      <td>...</td>\n",
       "      <td>...</td>\n",
       "      <td>...</td>\n",
       "      <td>...</td>\n",
       "      <td>...</td>\n",
       "      <td>...</td>\n",
       "      <td>...</td>\n",
       "      <td>...</td>\n",
       "    </tr>\n",
       "    <tr>\n",
       "      <th>7556</th>\n",
       "      <td>209.791702</td>\n",
       "      <td>64.431269</td>\n",
       "      <td>352.114464</td>\n",
       "      <td>49.963820</td>\n",
       "      <td>32.485250</td>\n",
       "      <td>40.239417</td>\n",
       "      <td>34.588701</td>\n",
       "      <td>27.400365</td>\n",
       "      <td>76.806312</td>\n",
       "      <td>14.063156</td>\n",
       "      <td>...</td>\n",
       "      <td>113.069003</td>\n",
       "      <td>42.144314</td>\n",
       "      <td>52.314280</td>\n",
       "      <td>22.188215</td>\n",
       "      <td>23.165003</td>\n",
       "      <td>61.015915</td>\n",
       "      <td>58.734898</td>\n",
       "      <td>48.992897</td>\n",
       "      <td>47.494631</td>\n",
       "      <td>166.242320</td>\n",
       "    </tr>\n",
       "    <tr>\n",
       "      <th>7557</th>\n",
       "      <td>209.923554</td>\n",
       "      <td>64.585634</td>\n",
       "      <td>347.970537</td>\n",
       "      <td>49.964652</td>\n",
       "      <td>32.082809</td>\n",
       "      <td>40.080934</td>\n",
       "      <td>34.223354</td>\n",
       "      <td>27.266831</td>\n",
       "      <td>76.447655</td>\n",
       "      <td>14.148588</td>\n",
       "      <td>...</td>\n",
       "      <td>112.596712</td>\n",
       "      <td>42.241658</td>\n",
       "      <td>53.078686</td>\n",
       "      <td>22.171481</td>\n",
       "      <td>22.992419</td>\n",
       "      <td>60.944832</td>\n",
       "      <td>58.816223</td>\n",
       "      <td>49.106335</td>\n",
       "      <td>47.985134</td>\n",
       "      <td>164.700938</td>\n",
       "    </tr>\n",
       "    <tr>\n",
       "      <th>7558</th>\n",
       "      <td>208.439028</td>\n",
       "      <td>64.396472</td>\n",
       "      <td>353.911694</td>\n",
       "      <td>50.667233</td>\n",
       "      <td>32.353593</td>\n",
       "      <td>40.117981</td>\n",
       "      <td>34.429710</td>\n",
       "      <td>27.164587</td>\n",
       "      <td>75.836895</td>\n",
       "      <td>14.185221</td>\n",
       "      <td>...</td>\n",
       "      <td>113.597917</td>\n",
       "      <td>42.251808</td>\n",
       "      <td>53.370334</td>\n",
       "      <td>21.958553</td>\n",
       "      <td>23.106556</td>\n",
       "      <td>60.817032</td>\n",
       "      <td>59.008943</td>\n",
       "      <td>48.410063</td>\n",
       "      <td>48.581072</td>\n",
       "      <td>164.858493</td>\n",
       "    </tr>\n",
       "    <tr>\n",
       "      <th>7559</th>\n",
       "      <td>207.939409</td>\n",
       "      <td>64.519415</td>\n",
       "      <td>357.581364</td>\n",
       "      <td>50.311656</td>\n",
       "      <td>31.856632</td>\n",
       "      <td>39.900735</td>\n",
       "      <td>34.434831</td>\n",
       "      <td>26.882611</td>\n",
       "      <td>75.790139</td>\n",
       "      <td>14.389002</td>\n",
       "      <td>...</td>\n",
       "      <td>111.867791</td>\n",
       "      <td>42.070660</td>\n",
       "      <td>53.266205</td>\n",
       "      <td>22.092522</td>\n",
       "      <td>23.133373</td>\n",
       "      <td>60.885388</td>\n",
       "      <td>58.418702</td>\n",
       "      <td>48.654257</td>\n",
       "      <td>48.027023</td>\n",
       "      <td>169.015833</td>\n",
       "    </tr>\n",
       "    <tr>\n",
       "      <th>7560</th>\n",
       "      <td>205.654472</td>\n",
       "      <td>65.215487</td>\n",
       "      <td>354.730174</td>\n",
       "      <td>50.552073</td>\n",
       "      <td>31.695152</td>\n",
       "      <td>39.923292</td>\n",
       "      <td>34.422110</td>\n",
       "      <td>26.757709</td>\n",
       "      <td>75.192901</td>\n",
       "      <td>14.376663</td>\n",
       "      <td>...</td>\n",
       "      <td>113.439576</td>\n",
       "      <td>42.137358</td>\n",
       "      <td>53.024243</td>\n",
       "      <td>22.181277</td>\n",
       "      <td>23.000351</td>\n",
       "      <td>61.010245</td>\n",
       "      <td>59.307301</td>\n",
       "      <td>48.858657</td>\n",
       "      <td>47.455839</td>\n",
       "      <td>169.841157</td>\n",
       "    </tr>\n",
       "  </tbody>\n",
       "</table>\n",
       "<p>7561 rows × 500 columns</p>\n",
       "</div>"
      ],
      "text/plain": [
       "             0          1           2          3          4          5    \\\n",
       "0       1.000000   1.000000    1.000000   1.000000   1.000000   1.000000   \n",
       "1       1.012420   0.996212    1.012258   0.982285   0.989024   1.006106   \n",
       "2       1.025940   1.006061    1.005832   0.980467   0.986178   1.002578   \n",
       "3       1.034652   0.998978    1.008405   0.949857   0.986592   0.995967   \n",
       "4       1.045189   1.009138    0.994756   0.944067   0.974668   1.002820   \n",
       "...          ...        ...         ...        ...        ...        ...   \n",
       "7556  209.791702  64.431269  352.114464  49.963820  32.485250  40.239417   \n",
       "7557  209.923554  64.585634  347.970537  49.964652  32.082809  40.080934   \n",
       "7558  208.439028  64.396472  353.911694  50.667233  32.353593  40.117981   \n",
       "7559  207.939409  64.519415  357.581364  50.311656  31.856632  39.900735   \n",
       "7560  205.654472  65.215487  354.730174  50.552073  31.695152  39.923292   \n",
       "\n",
       "            6          7          8          9    ...         490        491  \\\n",
       "0      1.000000   1.000000   1.000000   1.000000  ...    1.000000   1.000000   \n",
       "1      1.002649   1.004344   1.009180   1.013547  ...    1.000750   1.007511   \n",
       "2      1.006765   0.994194   1.001974   1.015477  ...    0.992277   0.997417   \n",
       "3      0.992786   0.992476   1.003900   1.022886  ...    1.010284   1.003849   \n",
       "4      0.986567   0.995559   1.000859   1.013168  ...    1.003773   1.007728   \n",
       "...         ...        ...        ...        ...  ...         ...        ...   \n",
       "7556  34.588701  27.400365  76.806312  14.063156  ...  113.069003  42.144314   \n",
       "7557  34.223354  27.266831  76.447655  14.148588  ...  112.596712  42.241658   \n",
       "7558  34.429710  27.164587  75.836895  14.185221  ...  113.597917  42.251808   \n",
       "7559  34.434831  26.882611  75.790139  14.389002  ...  111.867791  42.070660   \n",
       "7560  34.422110  26.757709  75.192901  14.376663  ...  113.439576  42.137358   \n",
       "\n",
       "            492        493        494        495        496        497  \\\n",
       "0      1.000000   1.000000   1.000000   1.000000   1.000000   1.000000   \n",
       "1      0.986191   0.993433   0.998980   0.993022   0.994012   1.003488   \n",
       "2      0.982467   0.998778   1.000387   0.994969   0.991426   0.992508   \n",
       "3      0.975048   0.997523   0.987235   0.999984   1.001057   1.006351   \n",
       "4      0.968211   0.996588   0.988378   0.990207   0.989324   0.992990   \n",
       "...         ...        ...        ...        ...        ...        ...   \n",
       "7556  52.314280  22.188215  23.165003  61.015915  58.734898  48.992897   \n",
       "7557  53.078686  22.171481  22.992419  60.944832  58.816223  49.106335   \n",
       "7558  53.370334  21.958553  23.106556  60.817032  59.008943  48.410063   \n",
       "7559  53.266205  22.092522  23.133373  60.885388  58.418702  48.654257   \n",
       "7560  53.024243  22.181277  23.000351  61.010245  59.307301  48.858657   \n",
       "\n",
       "            498         499  \n",
       "0      1.000000    1.000000  \n",
       "1      0.993069    0.982758  \n",
       "2      0.992539    0.979575  \n",
       "3      0.980654    0.981723  \n",
       "4      0.969506    0.987361  \n",
       "...         ...         ...  \n",
       "7556  47.494631  166.242320  \n",
       "7557  47.985134  164.700938  \n",
       "7558  48.581072  164.858493  \n",
       "7559  48.027023  169.015833  \n",
       "7560  47.455839  169.841157  \n",
       "\n",
       "[7561 rows x 500 columns]"
      ]
     },
     "execution_count": 38,
     "metadata": {},
     "output_type": "execute_result"
    }
   ],
   "source": [
    "# Run the Monte Carlo simulation to forecast 30 years cumulative returns\n",
    "portf_mc_30y.calc_cumulative_return()"
   ]
  },
  {
   "cell_type": "code",
   "execution_count": 41,
   "metadata": {},
   "outputs": [
    {
     "data": {
      "text/plain": [
       "<AxesSubplot:title={'center':'500 Simulations of Cumulative Portfolio Return Trajectories Over the Next 7560 Trading Days.'}>"
      ]
     },
     "execution_count": 41,
     "metadata": {},
     "output_type": "execute_result"
    },
    {
     "data": {
      "image/png": "[encoded data removed]",
      "text/plain": [
       "<Figure size 432x288 with 1 Axes>"
      ]
     },
     "metadata": {
      "needs_background": "light"
     },
     "output_type": "display_data"
    }
   ],
   "source": [
    "# Visualize the 30-year Monte Carlo simulation by creating an\n",
    "# overlay line plot\n",
    "portf_mc_30y.plot_simulation()"
   ]
  },
  {
   "cell_type": "code",
   "execution_count": 44,
   "metadata": {},
   "outputs": [
    {
     "data": {
      "text/plain": [
       "<AxesSubplot:title={'center':'Distribution of Final Cumuluative Returns Across All 500 Simulations'}, ylabel='Frequency'>"
      ]
     },
     "execution_count": 44,
     "metadata": {},
     "output_type": "execute_result"
    },
    {
     "data": {
      "image/png": "[encoded data removed]",
      "text/plain": [
       "<Figure size 432x288 with 1 Axes>"
      ]
     },
     "metadata": {
      "needs_background": "light"
     },
     "output_type": "display_data"
    }
   ],
   "source": [
    "# Visualize the probability distribution of the 30-year Monte Carlo simulation \n",
    "# by plotting a histogram\n",
    "portf_mc_30y.plot_distribution()\n"
   ]
  },
  {
   "cell_type": "code",
   "execution_count": 71,
   "metadata": {},
   "outputs": [
    {
     "name": "stdout",
     "output_type": "stream",
     "text": [
      "count           500.000000\n",
      "mean             56.235943\n",
      "std              55.622609\n",
      "min               4.834944\n",
      "25%              23.888231\n",
      "50%              41.480573\n",
      "75%              67.462525\n",
      "max             471.101720\n",
      "95% CI Lower      9.415097\n",
      "95% CI Upper    227.374470\n",
      "Name: 7560, dtype: float64\n"
     ]
    }
   ],
   "source": [
    "# Generate summary statistics from the 30-year Monte Carlo simulation results\n",
    "# Save the results as a variable\n",
    "portf_mc30y_summary = portf_mc_30y.summarize_cumulative_return()\n",
    "\n",
    "\n",
    "# Review the 30-year Monte Carlo summary statistics\n",
    "print(portf_mc30y_summary)"
   ]
  },
  {
   "cell_type": "markdown",
   "metadata": {},
   "source": [
    "### Analyze the Retirement Portfolio Forecasts\n",
    "\n",
    "Using the current value of only the stock and bond portion of the member's portfolio and the summary statistics that you generated from the Monte Carlo simulation, answer the following question:\n",
    "\n",
    "-  What are the lower and upper bounds for the expected value of the portfolio with a 95% confidence interval?\n"
   ]
  },
  {
   "cell_type": "code",
   "execution_count": 72,
   "metadata": {},
   "outputs": [
    {
     "name": "stdout",
     "output_type": "stream",
     "text": [
      "Current Balance of Stock and Bond Portion: $72,936.80. The value of AGG $22,834.00 and the value of SPY $50,102.80.\n"
     ]
    }
   ],
   "source": [
    "# Print the current balance of the stock and bond portion of the members portfolio\n",
    "def print_currbal_sb(total_stocks_bonds, agg_value, spy_value):\n",
    "    print(f'Current Balance of Stock and Bond Portion: ${total_stocks_bonds:,.2f}. The value of AGG ${agg_value:,.2f} and the value of SPY ${spy_value:,.2f}.')\n",
    "\n",
    "print_currbal_sb(total_stocks_bonds,agg_value,spy_value)"
   ]
  },
  {
   "cell_type": "code",
   "execution_count": 73,
   "metadata": {},
   "outputs": [
    {
     "name": "stdout",
     "output_type": "stream",
     "text": [
      "The lower 95% confidence interval is $686,707.06 and the upper 95% confidence interval is $16,583,966.25.\n"
     ]
    }
   ],
   "source": [
    "# Use the lower and upper `95%` confidence intervals to calculate the range of the possible outcomes for the current stock/bond portfolio\n",
    "ci_lower_thirty_cumulative_return = portf_mc30y_summary[8] * total_stocks_bonds\n",
    "ci_upper_thirty_cumulative_return = portf_mc30y_summary[9] * total_stocks_bonds\n",
    "\n",
    "\n",
    "# Print the result of your calculations\n",
    "def print_ci_interval(ci_lower_cumulative_return, ci_upper_cumulative_return):\n",
    "    print(f'The lower 95% confidence interval is ${ci_lower_cumulative_return:,.2f} and the upper 95% confidence interval is ${ci_upper_cumulative_return:,.2f}.')\n",
    "print_ci_interval(ci_lower_thirty_cumulative_return, ci_upper_thirty_cumulative_return)"
   ]
  },
  {
   "cell_type": "markdown",
   "metadata": {},
   "source": [
    "### Forecast Cumulative Returns in 10 Years\n",
    "\n",
    "- Based on the new Monte Carlo simulation, answer the following questions:\n",
    "\n",
    "    - Using the current value of only the stock and bond portion of the member's portfolio and the summary statistics that you generated from the new Monte Carlo simulation, what are the lower and upper bounds for the expected value of the portfolio (with the new weights) with a 95% confidence interval?\n",
    "\n",
    "    - Will weighting the portfolio more heavily toward stocks allow the credit union members to retire after only 10 years?\n"
   ]
  },
  {
   "cell_type": "code",
   "execution_count": 74,
   "metadata": {
    "collapsed": true,
    "jupyter": {
     "outputs_hidden": true
    },
    "tags": []
   },
   "outputs": [
    {
     "data": {
      "text/html": [
       "<div>\n",
       "<style scoped>\n",
       "    .dataframe tbody tr th:only-of-type {\n",
       "        vertical-align: middle;\n",
       "    }\n",
       "\n",
       "    .dataframe tbody tr th {\n",
       "        vertical-align: top;\n",
       "    }\n",
       "\n",
       "    .dataframe thead tr th {\n",
       "        text-align: left;\n",
       "    }\n",
       "\n",
       "    .dataframe thead tr:last-of-type th {\n",
       "        text-align: right;\n",
       "    }\n",
       "</style>\n",
       "<table border=\"1\" class=\"dataframe\">\n",
       "  <thead>\n",
       "    <tr>\n",
       "      <th></th>\n",
       "      <th colspan=\"6\" halign=\"left\">AGG</th>\n",
       "      <th colspan=\"6\" halign=\"left\">SPY</th>\n",
       "    </tr>\n",
       "    <tr>\n",
       "      <th></th>\n",
       "      <th>open</th>\n",
       "      <th>high</th>\n",
       "      <th>low</th>\n",
       "      <th>close</th>\n",
       "      <th>volume</th>\n",
       "      <th>daily_return</th>\n",
       "      <th>open</th>\n",
       "      <th>high</th>\n",
       "      <th>low</th>\n",
       "      <th>close</th>\n",
       "      <th>volume</th>\n",
       "      <th>daily_return</th>\n",
       "    </tr>\n",
       "    <tr>\n",
       "      <th>time</th>\n",
       "      <th></th>\n",
       "      <th></th>\n",
       "      <th></th>\n",
       "      <th></th>\n",
       "      <th></th>\n",
       "      <th></th>\n",
       "      <th></th>\n",
       "      <th></th>\n",
       "      <th></th>\n",
       "      <th></th>\n",
       "      <th></th>\n",
       "      <th></th>\n",
       "    </tr>\n",
       "  </thead>\n",
       "  <tbody>\n",
       "    <tr>\n",
       "      <th>2018-10-25 00:00:00-04:00</th>\n",
       "      <td>104.71</td>\n",
       "      <td>104.77</td>\n",
       "      <td>104.61</td>\n",
       "      <td>104.665</td>\n",
       "      <td>3882207.0</td>\n",
       "      <td>NaN</td>\n",
       "      <td>267.37</td>\n",
       "      <td>271.81</td>\n",
       "      <td>266.23</td>\n",
       "      <td>270.14</td>\n",
       "      <td>97215770</td>\n",
       "      <td>NaN</td>\n",
       "    </tr>\n",
       "    <tr>\n",
       "      <th>2018-10-26 00:00:00-04:00</th>\n",
       "      <td>104.88</td>\n",
       "      <td>105.05</td>\n",
       "      <td>104.87</td>\n",
       "      <td>104.915</td>\n",
       "      <td>4411985.0</td>\n",
       "      <td>0.002389</td>\n",
       "      <td>265.92</td>\n",
       "      <td>271.00</td>\n",
       "      <td>262.29</td>\n",
       "      <td>265.29</td>\n",
       "      <td>161147868</td>\n",
       "      <td>-0.017954</td>\n",
       "    </tr>\n",
       "    <tr>\n",
       "      <th>2018-10-29 00:00:00-04:00</th>\n",
       "      <td>104.86</td>\n",
       "      <td>104.89</td>\n",
       "      <td>104.72</td>\n",
       "      <td>104.790</td>\n",
       "      <td>3599179.0</td>\n",
       "      <td>-0.001191</td>\n",
       "      <td>268.78</td>\n",
       "      <td>270.25</td>\n",
       "      <td>259.85</td>\n",
       "      <td>263.80</td>\n",
       "      <td>120705901</td>\n",
       "      <td>-0.005616</td>\n",
       "    </tr>\n",
       "    <tr>\n",
       "      <th>2018-10-30 00:00:00-04:00</th>\n",
       "      <td>104.68</td>\n",
       "      <td>104.78</td>\n",
       "      <td>104.64</td>\n",
       "      <td>104.650</td>\n",
       "      <td>2246561.0</td>\n",
       "      <td>-0.001336</td>\n",
       "      <td>263.67</td>\n",
       "      <td>268.12</td>\n",
       "      <td>263.12</td>\n",
       "      <td>267.81</td>\n",
       "      <td>122643325</td>\n",
       "      <td>0.015201</td>\n",
       "    </tr>\n",
       "    <tr>\n",
       "      <th>2018-10-31 00:00:00-04:00</th>\n",
       "      <td>104.50</td>\n",
       "      <td>104.70</td>\n",
       "      <td>104.50</td>\n",
       "      <td>104.580</td>\n",
       "      <td>11670445.0</td>\n",
       "      <td>-0.000669</td>\n",
       "      <td>270.65</td>\n",
       "      <td>273.23</td>\n",
       "      <td>270.12</td>\n",
       "      <td>270.69</td>\n",
       "      <td>97427146</td>\n",
       "      <td>0.010754</td>\n",
       "    </tr>\n",
       "  </tbody>\n",
       "</table>\n",
       "</div>"
      ],
      "text/plain": [
       "                              AGG                                       \\\n",
       "                             open    high     low    close      volume   \n",
       "time                                                                     \n",
       "2018-10-25 00:00:00-04:00  104.71  104.77  104.61  104.665   3882207.0   \n",
       "2018-10-26 00:00:00-04:00  104.88  105.05  104.87  104.915   4411985.0   \n",
       "2018-10-29 00:00:00-04:00  104.86  104.89  104.72  104.790   3599179.0   \n",
       "2018-10-30 00:00:00-04:00  104.68  104.78  104.64  104.650   2246561.0   \n",
       "2018-10-31 00:00:00-04:00  104.50  104.70  104.50  104.580  11670445.0   \n",
       "\n",
       "                                           SPY                          \\\n",
       "                          daily_return    open    high     low   close   \n",
       "time                                                                     \n",
       "2018-10-25 00:00:00-04:00          NaN  267.37  271.81  266.23  270.14   \n",
       "2018-10-26 00:00:00-04:00     0.002389  265.92  271.00  262.29  265.29   \n",
       "2018-10-29 00:00:00-04:00    -0.001191  268.78  270.25  259.85  263.80   \n",
       "2018-10-30 00:00:00-04:00    -0.001336  263.67  268.12  263.12  267.81   \n",
       "2018-10-31 00:00:00-04:00    -0.000669  270.65  273.23  270.12  270.69   \n",
       "\n",
       "                                                   \n",
       "                              volume daily_return  \n",
       "time                                               \n",
       "2018-10-25 00:00:00-04:00   97215770          NaN  \n",
       "2018-10-26 00:00:00-04:00  161147868    -0.017954  \n",
       "2018-10-29 00:00:00-04:00  120705901    -0.005616  \n",
       "2018-10-30 00:00:00-04:00  122643325     0.015201  \n",
       "2018-10-31 00:00:00-04:00   97427146     0.010754  "
      ]
     },
     "execution_count": 74,
     "metadata": {},
     "output_type": "execute_result"
    }
   ],
   "source": [
    "# Configure a Monte Carlo simulation to forecast 10 years cumulative returns\n",
    "# The weights should be split 20% to AGG and 80% to SPY.\n",
    "# Run 500 samples.\n",
    "portf_mc_10y = MCSimulation(portfolio_data = portfolio_df, weights = [.20,.80], num_simulation=500, num_trading_days = 252*10)\n",
    "\n",
    "# Review the simulation input data\n",
    "portf_mc_10y.portfolio_data.head()\n"
   ]
  },
  {
   "cell_type": "code",
   "execution_count": 54,
   "metadata": {
    "collapsed": true,
    "jupyter": {
     "outputs_hidden": true
    },
    "tags": []
   },
   "outputs": [
    {
     "name": "stdout",
     "output_type": "stream",
     "text": [
      "Running Monte Carlo simulation number 0.\n",
      "Running Monte Carlo simulation number 10.\n",
      "Running Monte Carlo simulation number 20.\n",
      "Running Monte Carlo simulation number 30.\n",
      "Running Monte Carlo simulation number 40.\n",
      "Running Monte Carlo simulation number 50.\n",
      "Running Monte Carlo simulation number 60.\n",
      "Running Monte Carlo simulation number 70.\n",
      "Running Monte Carlo simulation number 80.\n",
      "Running Monte Carlo simulation number 90.\n",
      "Running Monte Carlo simulation number 100.\n",
      "Running Monte Carlo simulation number 110.\n",
      "Running Monte Carlo simulation number 120.\n",
      "Running Monte Carlo simulation number 130.\n",
      "Running Monte Carlo simulation number 140.\n",
      "Running Monte Carlo simulation number 150.\n",
      "Running Monte Carlo simulation number 160.\n",
      "Running Monte Carlo simulation number 170.\n",
      "Running Monte Carlo simulation number 180.\n",
      "Running Monte Carlo simulation number 190.\n",
      "Running Monte Carlo simulation number 200.\n",
      "Running Monte Carlo simulation number 210.\n",
      "Running Monte Carlo simulation number 220.\n",
      "Running Monte Carlo simulation number 230.\n",
      "Running Monte Carlo simulation number 240.\n",
      "Running Monte Carlo simulation number 250.\n",
      "Running Monte Carlo simulation number 260.\n",
      "Running Monte Carlo simulation number 270.\n",
      "Running Monte Carlo simulation number 280.\n",
      "Running Monte Carlo simulation number 290.\n",
      "Running Monte Carlo simulation number 300.\n",
      "Running Monte Carlo simulation number 310.\n",
      "Running Monte Carlo simulation number 320.\n",
      "Running Monte Carlo simulation number 330.\n",
      "Running Monte Carlo simulation number 340.\n",
      "Running Monte Carlo simulation number 350.\n",
      "Running Monte Carlo simulation number 360.\n",
      "Running Monte Carlo simulation number 370.\n",
      "Running Monte Carlo simulation number 380.\n",
      "Running Monte Carlo simulation number 390.\n",
      "Running Monte Carlo simulation number 400.\n",
      "Running Monte Carlo simulation number 410.\n",
      "Running Monte Carlo simulation number 420.\n",
      "Running Monte Carlo simulation number 430.\n",
      "Running Monte Carlo simulation number 440.\n",
      "Running Monte Carlo simulation number 450.\n",
      "Running Monte Carlo simulation number 460.\n",
      "Running Monte Carlo simulation number 470.\n",
      "Running Monte Carlo simulation number 480.\n",
      "Running Monte Carlo simulation number 490.\n"
     ]
    },
    {
     "data": {
      "text/html": [
       "<div>\n",
       "<style scoped>\n",
       "    .dataframe tbody tr th:only-of-type {\n",
       "        vertical-align: middle;\n",
       "    }\n",
       "\n",
       "    .dataframe tbody tr th {\n",
       "        vertical-align: top;\n",
       "    }\n",
       "\n",
       "    .dataframe thead th {\n",
       "        text-align: right;\n",
       "    }\n",
       "</style>\n",
       "<table border=\"1\" class=\"dataframe\">\n",
       "  <thead>\n",
       "    <tr style=\"text-align: right;\">\n",
       "      <th></th>\n",
       "      <th>0</th>\n",
       "      <th>1</th>\n",
       "      <th>2</th>\n",
       "      <th>3</th>\n",
       "      <th>4</th>\n",
       "      <th>5</th>\n",
       "      <th>6</th>\n",
       "      <th>7</th>\n",
       "      <th>8</th>\n",
       "      <th>9</th>\n",
       "      <th>...</th>\n",
       "      <th>490</th>\n",
       "      <th>491</th>\n",
       "      <th>492</th>\n",
       "      <th>493</th>\n",
       "      <th>494</th>\n",
       "      <th>495</th>\n",
       "      <th>496</th>\n",
       "      <th>497</th>\n",
       "      <th>498</th>\n",
       "      <th>499</th>\n",
       "    </tr>\n",
       "  </thead>\n",
       "  <tbody>\n",
       "    <tr>\n",
       "      <th>0</th>\n",
       "      <td>1.000000</td>\n",
       "      <td>1.000000</td>\n",
       "      <td>1.000000</td>\n",
       "      <td>1.000000</td>\n",
       "      <td>1.000000</td>\n",
       "      <td>1.000000</td>\n",
       "      <td>1.000000</td>\n",
       "      <td>1.000000</td>\n",
       "      <td>1.000000</td>\n",
       "      <td>1.000000</td>\n",
       "      <td>...</td>\n",
       "      <td>1.000000</td>\n",
       "      <td>1.000000</td>\n",
       "      <td>1.000000</td>\n",
       "      <td>1.000000</td>\n",
       "      <td>1.000000</td>\n",
       "      <td>1.000000</td>\n",
       "      <td>1.000000</td>\n",
       "      <td>1.000000</td>\n",
       "      <td>1.000000</td>\n",
       "      <td>1.000000</td>\n",
       "    </tr>\n",
       "    <tr>\n",
       "      <th>1</th>\n",
       "      <td>0.997973</td>\n",
       "      <td>0.988896</td>\n",
       "      <td>1.011768</td>\n",
       "      <td>1.002796</td>\n",
       "      <td>0.997674</td>\n",
       "      <td>1.004616</td>\n",
       "      <td>0.994563</td>\n",
       "      <td>1.021485</td>\n",
       "      <td>1.012785</td>\n",
       "      <td>1.008871</td>\n",
       "      <td>...</td>\n",
       "      <td>1.005135</td>\n",
       "      <td>0.995806</td>\n",
       "      <td>1.008358</td>\n",
       "      <td>1.021620</td>\n",
       "      <td>1.015353</td>\n",
       "      <td>0.976207</td>\n",
       "      <td>0.998752</td>\n",
       "      <td>0.992496</td>\n",
       "      <td>0.976062</td>\n",
       "      <td>1.027448</td>\n",
       "    </tr>\n",
       "    <tr>\n",
       "      <th>2</th>\n",
       "      <td>0.982022</td>\n",
       "      <td>0.983855</td>\n",
       "      <td>0.999411</td>\n",
       "      <td>1.012830</td>\n",
       "      <td>1.010818</td>\n",
       "      <td>0.995156</td>\n",
       "      <td>1.004742</td>\n",
       "      <td>1.042554</td>\n",
       "      <td>1.021356</td>\n",
       "      <td>1.015571</td>\n",
       "      <td>...</td>\n",
       "      <td>1.018177</td>\n",
       "      <td>1.009930</td>\n",
       "      <td>1.024089</td>\n",
       "      <td>1.020334</td>\n",
       "      <td>1.023882</td>\n",
       "      <td>0.969464</td>\n",
       "      <td>0.998292</td>\n",
       "      <td>0.996540</td>\n",
       "      <td>0.984255</td>\n",
       "      <td>1.037894</td>\n",
       "    </tr>\n",
       "    <tr>\n",
       "      <th>3</th>\n",
       "      <td>0.968072</td>\n",
       "      <td>0.991150</td>\n",
       "      <td>1.007607</td>\n",
       "      <td>1.007196</td>\n",
       "      <td>0.995311</td>\n",
       "      <td>1.001342</td>\n",
       "      <td>1.019385</td>\n",
       "      <td>1.041630</td>\n",
       "      <td>1.034722</td>\n",
       "      <td>1.026304</td>\n",
       "      <td>...</td>\n",
       "      <td>1.021240</td>\n",
       "      <td>1.002495</td>\n",
       "      <td>1.020026</td>\n",
       "      <td>1.013365</td>\n",
       "      <td>1.028016</td>\n",
       "      <td>0.976719</td>\n",
       "      <td>1.014813</td>\n",
       "      <td>0.993899</td>\n",
       "      <td>1.000084</td>\n",
       "      <td>1.029689</td>\n",
       "    </tr>\n",
       "    <tr>\n",
       "      <th>4</th>\n",
       "      <td>0.973772</td>\n",
       "      <td>0.998612</td>\n",
       "      <td>1.020528</td>\n",
       "      <td>0.991554</td>\n",
       "      <td>1.010559</td>\n",
       "      <td>1.018104</td>\n",
       "      <td>1.002362</td>\n",
       "      <td>1.040160</td>\n",
       "      <td>1.061673</td>\n",
       "      <td>1.025815</td>\n",
       "      <td>...</td>\n",
       "      <td>1.032853</td>\n",
       "      <td>1.010918</td>\n",
       "      <td>1.027235</td>\n",
       "      <td>1.030139</td>\n",
       "      <td>1.036368</td>\n",
       "      <td>0.987555</td>\n",
       "      <td>1.015734</td>\n",
       "      <td>0.996113</td>\n",
       "      <td>1.014905</td>\n",
       "      <td>1.042245</td>\n",
       "    </tr>\n",
       "    <tr>\n",
       "      <th>...</th>\n",
       "      <td>...</td>\n",
       "      <td>...</td>\n",
       "      <td>...</td>\n",
       "      <td>...</td>\n",
       "      <td>...</td>\n",
       "      <td>...</td>\n",
       "      <td>...</td>\n",
       "      <td>...</td>\n",
       "      <td>...</td>\n",
       "      <td>...</td>\n",
       "      <td>...</td>\n",
       "      <td>...</td>\n",
       "      <td>...</td>\n",
       "      <td>...</td>\n",
       "      <td>...</td>\n",
       "      <td>...</td>\n",
       "      <td>...</td>\n",
       "      <td>...</td>\n",
       "      <td>...</td>\n",
       "      <td>...</td>\n",
       "      <td>...</td>\n",
       "    </tr>\n",
       "    <tr>\n",
       "      <th>2516</th>\n",
       "      <td>3.833531</td>\n",
       "      <td>4.729239</td>\n",
       "      <td>3.219029</td>\n",
       "      <td>4.705393</td>\n",
       "      <td>1.689751</td>\n",
       "      <td>3.455119</td>\n",
       "      <td>9.693141</td>\n",
       "      <td>19.439655</td>\n",
       "      <td>1.944836</td>\n",
       "      <td>4.191942</td>\n",
       "      <td>...</td>\n",
       "      <td>4.116331</td>\n",
       "      <td>9.882291</td>\n",
       "      <td>2.141081</td>\n",
       "      <td>16.169816</td>\n",
       "      <td>5.088134</td>\n",
       "      <td>9.842277</td>\n",
       "      <td>4.799234</td>\n",
       "      <td>3.359878</td>\n",
       "      <td>9.977765</td>\n",
       "      <td>3.209212</td>\n",
       "    </tr>\n",
       "    <tr>\n",
       "      <th>2517</th>\n",
       "      <td>3.851103</td>\n",
       "      <td>4.732332</td>\n",
       "      <td>3.169523</td>\n",
       "      <td>4.623597</td>\n",
       "      <td>1.673234</td>\n",
       "      <td>3.478237</td>\n",
       "      <td>9.838036</td>\n",
       "      <td>19.571752</td>\n",
       "      <td>1.971148</td>\n",
       "      <td>4.239546</td>\n",
       "      <td>...</td>\n",
       "      <td>4.167473</td>\n",
       "      <td>9.810038</td>\n",
       "      <td>2.150725</td>\n",
       "      <td>16.259147</td>\n",
       "      <td>5.133711</td>\n",
       "      <td>10.034331</td>\n",
       "      <td>4.758071</td>\n",
       "      <td>3.350935</td>\n",
       "      <td>9.922716</td>\n",
       "      <td>3.171169</td>\n",
       "    </tr>\n",
       "    <tr>\n",
       "      <th>2518</th>\n",
       "      <td>3.922001</td>\n",
       "      <td>4.769335</td>\n",
       "      <td>3.115072</td>\n",
       "      <td>4.676421</td>\n",
       "      <td>1.665794</td>\n",
       "      <td>3.487992</td>\n",
       "      <td>9.973296</td>\n",
       "      <td>19.559817</td>\n",
       "      <td>1.996510</td>\n",
       "      <td>4.251925</td>\n",
       "      <td>...</td>\n",
       "      <td>4.117215</td>\n",
       "      <td>9.757123</td>\n",
       "      <td>2.160876</td>\n",
       "      <td>16.437501</td>\n",
       "      <td>5.217436</td>\n",
       "      <td>10.110517</td>\n",
       "      <td>4.681413</td>\n",
       "      <td>3.372507</td>\n",
       "      <td>9.991502</td>\n",
       "      <td>3.176660</td>\n",
       "    </tr>\n",
       "    <tr>\n",
       "      <th>2519</th>\n",
       "      <td>3.850611</td>\n",
       "      <td>4.695553</td>\n",
       "      <td>3.103489</td>\n",
       "      <td>4.694289</td>\n",
       "      <td>1.677359</td>\n",
       "      <td>3.533706</td>\n",
       "      <td>9.919757</td>\n",
       "      <td>19.417944</td>\n",
       "      <td>2.041889</td>\n",
       "      <td>4.176863</td>\n",
       "      <td>...</td>\n",
       "      <td>4.081155</td>\n",
       "      <td>10.004167</td>\n",
       "      <td>2.173806</td>\n",
       "      <td>16.719915</td>\n",
       "      <td>5.148987</td>\n",
       "      <td>10.264867</td>\n",
       "      <td>4.652914</td>\n",
       "      <td>3.362523</td>\n",
       "      <td>9.957409</td>\n",
       "      <td>3.181308</td>\n",
       "    </tr>\n",
       "    <tr>\n",
       "      <th>2520</th>\n",
       "      <td>3.861165</td>\n",
       "      <td>4.729089</td>\n",
       "      <td>3.153722</td>\n",
       "      <td>4.756932</td>\n",
       "      <td>1.703837</td>\n",
       "      <td>3.582273</td>\n",
       "      <td>9.965700</td>\n",
       "      <td>19.468790</td>\n",
       "      <td>2.094167</td>\n",
       "      <td>4.094979</td>\n",
       "      <td>...</td>\n",
       "      <td>4.061229</td>\n",
       "      <td>9.951732</td>\n",
       "      <td>2.154874</td>\n",
       "      <td>16.720463</td>\n",
       "      <td>5.205224</td>\n",
       "      <td>10.257440</td>\n",
       "      <td>4.636045</td>\n",
       "      <td>3.422033</td>\n",
       "      <td>9.866411</td>\n",
       "      <td>3.207682</td>\n",
       "    </tr>\n",
       "  </tbody>\n",
       "</table>\n",
       "<p>2521 rows × 500 columns</p>\n",
       "</div>"
      ],
      "text/plain": [
       "           0         1         2         3         4         5         6    \\\n",
       "0     1.000000  1.000000  1.000000  1.000000  1.000000  1.000000  1.000000   \n",
       "1     0.997973  0.988896  1.011768  1.002796  0.997674  1.004616  0.994563   \n",
       "2     0.982022  0.983855  0.999411  1.012830  1.010818  0.995156  1.004742   \n",
       "3     0.968072  0.991150  1.007607  1.007196  0.995311  1.001342  1.019385   \n",
       "4     0.973772  0.998612  1.020528  0.991554  1.010559  1.018104  1.002362   \n",
       "...        ...       ...       ...       ...       ...       ...       ...   \n",
       "2516  3.833531  4.729239  3.219029  4.705393  1.689751  3.455119  9.693141   \n",
       "2517  3.851103  4.732332  3.169523  4.623597  1.673234  3.478237  9.838036   \n",
       "2518  3.922001  4.769335  3.115072  4.676421  1.665794  3.487992  9.973296   \n",
       "2519  3.850611  4.695553  3.103489  4.694289  1.677359  3.533706  9.919757   \n",
       "2520  3.861165  4.729089  3.153722  4.756932  1.703837  3.582273  9.965700   \n",
       "\n",
       "            7         8         9    ...       490        491       492  \\\n",
       "0      1.000000  1.000000  1.000000  ...  1.000000   1.000000  1.000000   \n",
       "1      1.021485  1.012785  1.008871  ...  1.005135   0.995806  1.008358   \n",
       "2      1.042554  1.021356  1.015571  ...  1.018177   1.009930  1.024089   \n",
       "3      1.041630  1.034722  1.026304  ...  1.021240   1.002495  1.020026   \n",
       "4      1.040160  1.061673  1.025815  ...  1.032853   1.010918  1.027235   \n",
       "...         ...       ...       ...  ...       ...        ...       ...   \n",
       "2516  19.439655  1.944836  4.191942  ...  4.116331   9.882291  2.141081   \n",
       "2517  19.571752  1.971148  4.239546  ...  4.167473   9.810038  2.150725   \n",
       "2518  19.559817  1.996510  4.251925  ...  4.117215   9.757123  2.160876   \n",
       "2519  19.417944  2.041889  4.176863  ...  4.081155  10.004167  2.173806   \n",
       "2520  19.468790  2.094167  4.094979  ...  4.061229   9.951732  2.154874   \n",
       "\n",
       "            493       494        495       496       497       498       499  \n",
       "0      1.000000  1.000000   1.000000  1.000000  1.000000  1.000000  1.000000  \n",
       "1      1.021620  1.015353   0.976207  0.998752  0.992496  0.976062  1.027448  \n",
       "2      1.020334  1.023882   0.969464  0.998292  0.996540  0.984255  1.037894  \n",
       "3      1.013365  1.028016   0.976719  1.014813  0.993899  1.000084  1.029689  \n",
       "4      1.030139  1.036368   0.987555  1.015734  0.996113  1.014905  1.042245  \n",
       "...         ...       ...        ...       ...       ...       ...       ...  \n",
       "2516  16.169816  5.088134   9.842277  4.799234  3.359878  9.977765  3.209212  \n",
       "2517  16.259147  5.133711  10.034331  4.758071  3.350935  9.922716  3.171169  \n",
       "2518  16.437501  5.217436  10.110517  4.681413  3.372507  9.991502  3.176660  \n",
       "2519  16.719915  5.148987  10.264867  4.652914  3.362523  9.957409  3.181308  \n",
       "2520  16.720463  5.205224  10.257440  4.636045  3.422033  9.866411  3.207682  \n",
       "\n",
       "[2521 rows x 500 columns]"
      ]
     },
     "execution_count": 54,
     "metadata": {},
     "output_type": "execute_result"
    }
   ],
   "source": [
    "# Run the Monte Carlo simulation to forecast 10 years cumulative returns\n",
    "portf_mc_10y.calc_cumulative_return()\n"
   ]
  },
  {
   "cell_type": "code",
   "execution_count": 1,
   "metadata": {},
   "outputs": [
    {
     "ename": "NameError",
     "evalue": "name 'portf_mc_10y' is not defined",
     "output_type": "error",
     "traceback": [
      "\u001b[1;31m---------------------------------------------------------------------------\u001b[0m",
      "\u001b[1;31mNameError\u001b[0m                                 Traceback (most recent call last)",
      "\u001b[1;32m<ipython-input-1-f8a1745d5fcc>\u001b[0m in \u001b[0;36m<module>\u001b[1;34m\u001b[0m\n\u001b[0;32m      1\u001b[0m \u001b[1;31m# Visualize the 10-year Monte Carlo simulation by creating an overlay line plot\u001b[0m\u001b[1;33m\u001b[0m\u001b[1;33m\u001b[0m\u001b[1;33m\u001b[0m\u001b[0m\n\u001b[1;32m----> 2\u001b[1;33m \u001b[0mportf_mc_10y\u001b[0m\u001b[1;33m.\u001b[0m\u001b[0mplot_simulation\u001b[0m\u001b[1;33m(\u001b[0m\u001b[1;33m)\u001b[0m\u001b[1;33m\u001b[0m\u001b[1;33m\u001b[0m\u001b[0m\n\u001b[0m",
      "\u001b[1;31mNameError\u001b[0m: name 'portf_mc_10y' is not defined"
     ]
    }
   ],
   "source": [
    "# Visualize the 10-year Monte Carlo simulation by creating an overlay line plot\n",
    "portf_mc_10y.plot_simulation()"
   ]
  },
  {
   "cell_type": "code",
   "execution_count": 56,
   "metadata": {},
   "outputs": [
    {
     "data": {
      "text/plain": [
       "<AxesSubplot:title={'center':'Distribution of Final Cumuluative Returns Across All 500 Simulations'}, ylabel='Frequency'>"
      ]
     },
     "execution_count": 56,
     "metadata": {},
     "output_type": "execute_result"
    },
    {
     "data": {
      "image/png": "[encoded data removed]",
      "text/plain": [
       "<Figure size 432x288 with 1 Axes>"
      ]
     },
     "metadata": {
      "needs_background": "light"
     },
     "output_type": "display_data"
    }
   ],
   "source": [
    "# Visualize the probability distribution of the 10-year Monte Carlo simulation by plotting a histogram\n",
    "portf_mc_10y.plot_distribution()"
   ]
  },
  {
   "cell_type": "code",
   "execution_count": 58,
   "metadata": {},
   "outputs": [
    {
     "name": "stdout",
     "output_type": "stream",
     "text": [
      "count           500.000000\n",
      "mean              5.347694\n",
      "std               3.259473\n",
      "min               0.575445\n",
      "25%               3.210394\n",
      "50%               4.485616\n",
      "75%               6.642961\n",
      "max              23.083296\n",
      "95% CI Lower      1.599299\n",
      "95% CI Upper     14.561354\n",
      "Name: 2520, dtype: float64\n"
     ]
    }
   ],
   "source": [
    "# Generate summary statistics from the 10-year Monte Carlo simulation results\n",
    "# Save the results as a variable\n",
    "portf_mc10y_summary = portf_mc_10y.summarize_cumulative_return()\n",
    "\n",
    "\n",
    "# Review the 10-year Monte Carlo summary statistics\n",
    "print(portf_mc10y_summary)"
   ]
  },
  {
   "cell_type": "markdown",
   "metadata": {},
   "source": [
    "### Answer the following questions:"
   ]
  },
  {
   "cell_type": "markdown",
   "metadata": {},
   "source": [
    "#### Question: Using the current value of only the stock and bond portion of the member's portfolio and the summary statistics that you generated from the new Monte Carlo simulation, what are the lower and upper bounds for the expected value of the portfolio (with the new weights) with a 95% confidence interval?"
   ]
  },
  {
   "cell_type": "code",
   "execution_count": 65,
   "metadata": {},
   "outputs": [
    {
     "name": "stdout",
     "output_type": "stream",
     "text": [
      "Current Balance of Stock and Bond Portion: $72,936.80. The value of AGG $22,834.00 and the value of SPY $50,102.80.\n"
     ]
    }
   ],
   "source": [
    "# Print the current balance of the stock and bond portion of the members portfolio\n",
    "print_currbal_sb(total_stocks_bonds,agg_value,spy_value)\n"
   ]
  },
  {
   "cell_type": "code",
   "execution_count": 75,
   "metadata": {},
   "outputs": [
    {
     "name": "stdout",
     "output_type": "stream",
     "text": [
      "The lower 95% confidence interval is $116,647.77 and the upper 95% confidence interval is $1,062,058.58.\n"
     ]
    }
   ],
   "source": [
    "# Use the lower and upper `95%` confidence intervals to calculate the range of the possible outcomes for the current stock/bond portfolio\n",
    "ci_lower_ten_cumulative_return = portf_mc10y_summary[8] * total_stocks_bonds\n",
    "ci_upper_ten_cumulative_return = portf_mc10y_summary[9] * total_stocks_bonds\n",
    "\n",
    "# Print the result of your calculations\n",
    "print_ci_interval(ci_lower_ten_cumulative_return, ci_upper_ten_cumulative_return)\n"
   ]
  },
  {
   "cell_type": "markdown",
   "metadata": {},
   "source": [
    "#### Question: Will weighting the portfolio more heavily to stocks allow the credit union members to retire after only 10 years?"
   ]
  },
  {
   "cell_type": "raw",
   "metadata": {},
   "source": [
    "**Answer** The lower 95% confidence interval shows a 60% gain and the upper 95% confidence interval shows a 1356% gain. Depending on how much they are trying to retire with, how heavily they invest, and how they weigh their portfolio it is possible for them to be able to retire in 10 years time."
   ]
  },
  {
   "cell_type": "code",
   "execution_count": null,
   "metadata": {},
   "outputs": [],
   "source": []
  }
 ],
 "metadata": {
  "kernelspec": {
   "display_name": "dev",
   "language": "python",
   "name": "dev"
  },
  "language_info": {
   "codemirror_mode": {
    "name": "ipython",
    "version": 3
   },
   "file_extension": ".py",
   "mimetype": "text/x-python",
   "name": "python",
   "nbconvert_exporter": "python",
   "pygments_lexer": "ipython3",
   "version": "3.7.10"
  }
 },
 "nbformat": 4,
 "nbformat_minor": 4
}
